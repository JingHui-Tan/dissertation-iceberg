{
 "cells": [
  {
   "cell_type": "code",
   "execution_count": 1,
   "metadata": {},
   "outputs": [],
   "source": [
    "import numpy as np\n",
    "import pandas as pd\n",
    "import matplotlib.pyplot as plt\n",
    "from sklearn.ensemble import RandomForestClassifier\n",
    "\n",
    "from prediction_ML_pipeline import train_and_evaluate_model"
   ]
  },
  {
   "cell_type": "code",
   "execution_count": 2,
   "metadata": {},
   "outputs": [],
   "source": [
    "MSFT_m = pd.read_csv(\"./data/LOB_2012/MSFT_2012-06-21_34200000_57600000_message_10.csv\", header=None)\n",
    "MSFT_ob = pd.read_csv(\"./data/LOB_2012/MSFT_2012-06-21_34200000_57600000_orderbook_10.csv\", header=None)"
   ]
  },
  {
   "cell_type": "code",
   "execution_count": 3,
   "metadata": {},
   "outputs": [],
   "source": [
    "SPY_m = pd.read_csv(\"./data/SPY/SPY_2019-01-02_24900000_57900000_message_10.csv\", header=None)\n",
    "SPY_ob = pd.read_csv(\"./data/SPY/SPY_2019-01-02_24900000_57900000_orderbook_10.csv\", header=None)"
   ]
  },
  {
   "cell_type": "code",
   "execution_count": 4,
   "metadata": {},
   "outputs": [
    {
     "name": "stdout",
     "output_type": "stream",
     "text": [
      "Fitting 5 folds for each of 1 candidates, totalling 5 fits\n",
      "[CV] END ....................................n_estimators=50; total time=   0.1s\n",
      "[CV] END ....................................n_estimators=50; total time=   0.1s\n",
      "[CV] END ....................................n_estimators=50; total time=   0.1s\n",
      "[CV] END ....................................n_estimators=50; total time=   0.1s\n",
      "[CV] END ....................................n_estimators=50; total time=   0.1s\n",
      "Best parameters found:  {'n_estimators': 50}\n",
      "Best accuracy found:  0.9172579963686609\n",
      "Accuracy on the train data: 1.0\n",
      "Accuracy on the test data: 0.9354375896700143\n"
     ]
    }
   ],
   "source": [
    "classifier = RandomForestClassifier()\n",
    "# param_grid = {\n",
    "#     'n_estimators': [50, 100, 200],\n",
    "#     'max_depth': [None, 10, 20, 30],\n",
    "#     'min_samples_split': [2, 5, 10],\n",
    "#     'min_samples_leaf': [1, 2, 4],\n",
    "#     'bootstrap': [True, False]\n",
    "# }\n",
    "\n",
    "param_grid = {\n",
    "    'n_estimators': [50]\n",
    "}\n",
    "\n",
    "df_m_labelled_lst = [MSFT_m]\n",
    "df_ob_labelled_lst = [MSFT_ob]\n",
    "tickers_train = ['MSFT']\n",
    "df_ob_predict_lst = [SPY_ob]\n",
    "df_m_predict_lst = [SPY_m]\n",
    "tickers_pred = ['SPY']\n",
    "\n",
    "\n",
    "results = train_and_evaluate_model(classifier, param_grid, df_ob_labelled_lst, \n",
    "                                   df_m_labelled_lst, tickers_train,\n",
    "                                   df_ob_predict_lst, df_m_predict_lst, tickers_pred)\n",
    "df_labelled_dict, df_predict_dict, features_dict, prediction_dict, best_classifier = results"
   ]
  },
  {
   "cell_type": "code",
   "execution_count": null,
   "metadata": {},
   "outputs": [],
   "source": []
  }
 ],
 "metadata": {
  "kernelspec": {
   "display_name": "ML_venv",
   "language": "python",
   "name": "python3"
  },
  "language_info": {
   "codemirror_mode": {
    "name": "ipython",
    "version": 3
   },
   "file_extension": ".py",
   "mimetype": "text/x-python",
   "name": "python",
   "nbconvert_exporter": "python",
   "pygments_lexer": "ipython3",
   "version": "3.9.13"
  }
 },
 "nbformat": 4,
 "nbformat_minor": 2
}
