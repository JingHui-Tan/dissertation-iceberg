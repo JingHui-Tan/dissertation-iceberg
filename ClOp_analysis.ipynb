{
 "cells": [
  {
   "cell_type": "code",
   "execution_count": 21,
   "metadata": {},
   "outputs": [],
   "source": [
    "import pandas as pd\n",
    "import os\n",
    "import matplotlib.pyplot as plt\n",
    "import numpy as np\n",
    "import warnings\n",
    "warnings.filterwarnings(\"ignore\")\n"
   ]
  },
  {
   "cell_type": "code",
   "execution_count": 269,
   "metadata": {},
   "outputs": [],
   "source": [
    "folder_path = '/nfs/home/jingt/dissertation-iceberg/data/trading_strat/ClOp_all'\n",
    "\n",
    "# List to hold DataFrames\n",
    "dfs = []\n",
    "\n",
    "# Iterate over all files in the folder\n",
    "for file_name in os.listdir(folder_path):\n",
    "    if file_name.endswith('.csv'):\n",
    "        # Read each CSV file and append it to the list\n",
    "        file_path = os.path.join(folder_path, file_name)\n",
    "        df = pd.read_csv(file_path)\n",
    "        dfs.append(df)\n",
    "\n",
    "# Concatenate all DataFrames\n",
    "df = pd.concat(dfs, ignore_index=True)"
   ]
  },
  {
   "cell_type": "code",
   "execution_count": 270,
   "metadata": {},
   "outputs": [],
   "source": [
    "params = pd.read_csv(\"/nfs/home/jingt/dissertation-iceberg/data/output_regression/pred_ClOp_ff_ib.csv\")"
   ]
  },
  {
   "cell_type": "code",
   "execution_count": 271,
   "metadata": {},
   "outputs": [
    {
     "data": {
      "text/plain": [
       "20"
      ]
     },
     "execution_count": 271,
     "metadata": {},
     "output_type": "execute_result"
    }
   ],
   "source": [
    "len(df['ticker'].unique())"
   ]
  },
  {
   "cell_type": "code",
   "execution_count": 272,
   "metadata": {},
   "outputs": [],
   "source": [
    "ticker_lst = ['AES', 'ALB', 'AOS', 'APA', 'BEN', 'BXP', 'CPB',\n",
    "              'DVA', 'FFIV', 'FRT', 'HII', 'HRL', 'HSIC', 'INCY',\n",
    "              'MHK', 'NWSA', 'PNW', 'RL', 'TAP', 'WYNN']"
   ]
  },
  {
   "cell_type": "code",
   "execution_count": 273,
   "metadata": {},
   "outputs": [],
   "source": [
    "df['pnl'] = np.sign(df['signal']) * df['fret_ClOp']"
   ]
  },
  {
   "cell_type": "code",
   "execution_count": 274,
   "metadata": {},
   "outputs": [],
   "source": [
    "df['datetime_bins'] = pd.to_datetime(df['datetime_bins'])"
   ]
  },
  {
   "cell_type": "code",
   "execution_count": 275,
   "metadata": {},
   "outputs": [],
   "source": [
    "trading_days = df['datetime_bins'].unique()"
   ]
  },
  {
   "cell_type": "code",
   "execution_count": 276,
   "metadata": {},
   "outputs": [],
   "source": [
    "def top_performers_df(df, dates, n_tickers=5):\n",
    "    df_month = df[df['datetime_bins'].isin(dates)]\n",
    "    pnl_ticker_lst = []\n",
    "    for ticker in ticker_lst:\n",
    "        df_month_ticker = df_month[df_month['ticker']==ticker]\n",
    "        pnl_ticker_lst.append(df_month_ticker['pnl'].sum())\n",
    "    pnl_ticker_df = pd.DataFrame({'ticker': ticker_lst, 'pnl': pnl_ticker_lst})\n",
    "    return pnl_ticker_df.sort_values(by='pnl', ascending=False)['ticker'][:n_tickers].to_list()"
   ]
  },
  {
   "cell_type": "code",
   "execution_count": 277,
   "metadata": {},
   "outputs": [],
   "source": [
    "def calc_portfolio(df, date, top_ticker_lst):\n",
    "    df_filtered = df[(df['ticker'].isin(top_ticker_lst)) & (df['datetime_bins'] == date)]\n",
    "    df_filtered['signal_rank_top'] = df_filtered.groupby('datetime_bins')['signal'].rank(method='first', ascending=False)\n",
    "    \n",
    "    top_signals = df_filtered[df_filtered['signal_rank_top'] == 1]\n",
    "    top_signals = top_signals[top_signals['signal'] > 0]\n",
    "\n",
    "    bot_signals = df_filtered[df_filtered['signal_rank_top'] == len(top_ticker_lst)]\n",
    "    bot_signals = bot_signals[bot_signals['signal'] < 0]\n",
    "\n",
    "    result = top_signals['pnl'].sum() + bot_signals['pnl'].sum()\n",
    "\n",
    "    return result, top_signals, bot_signals, top_ticker_lst"
   ]
  },
  {
   "cell_type": "code",
   "execution_count": 278,
   "metadata": {},
   "outputs": [],
   "source": [
    "result_lst = []\n",
    "top_signals_lst = []\n",
    "bot_signals_lst = []\n",
    "top_ticker_lst = []\n",
    "\n",
    "for day in trading_days[20:]:\n",
    "    prev_days = [i for i in trading_days if i < day][-20:]\n",
    "    top_performers = top_performers_df(df, prev_days, n_tickers=5)\n",
    "    result, top_signals, bot_signals, top_tickers = calc_portfolio(df, day, top_performers)\n",
    "    result_lst.append(result)\n",
    "    top_signals_lst.append(top_signals)\n",
    "    bot_signals_lst.append(bot_signals)\n",
    "    top_ticker_lst.append(top_tickers)"
   ]
  },
  {
   "cell_type": "code",
   "execution_count": 279,
   "metadata": {},
   "outputs": [
    {
     "data": {
      "text/plain": [
       "[<matplotlib.lines.Line2D at 0x7f51b29912a0>]"
      ]
     },
     "execution_count": 279,
     "metadata": {},
     "output_type": "execute_result"
    },
    {
     "data": {
      "image/png": "[encoded data removed]",
      "text/plain": [
       "<Figure size 640x480 with 1 Axes>"
      ]
     },
     "metadata": {},
     "output_type": "display_data"
    }
   ],
   "source": [
    "plt.plot(np.cumsum(result_lst))"
   ]
  },
  {
   "cell_type": "code",
   "execution_count": 280,
   "metadata": {},
   "outputs": [],
   "source": [
    "from scipy.stats import norm\n",
    "from scipy.stats import skew, kurtosis\n",
    "\n",
    "def sharpe_test(returns):\n",
    "    # Calculate the Sharpe ratio\n",
    "    sharpe_ratio = np.mean(returns) / np.std(returns, ddof=1)\n",
    "    \n",
    "    # Number of observations\n",
    "    T = len(returns)\n",
    "    \n",
    "    # Calculate skewness and kurtosis\n",
    "    g3 = skew(returns)\n",
    "    g4 = kurtosis(returns, fisher=False)  # fisher=False to match R's kurtosis (which includes the 3)\n",
    "    \n",
    "    # Calculate the modified Sharpe ratio statistic\n",
    "    denominator = np.sqrt((1 - g3 * sharpe_ratio + (g4 - 1) * (sharpe_ratio ** 2) / 4) / (T - 1))\n",
    "    modified_sharpe_stat = sharpe_ratio / denominator\n",
    "    # Calculate the two-tailed p-value\n",
    "    p_value = 2 * min(norm.cdf(modified_sharpe_stat), 1 - norm.cdf(modified_sharpe_stat))\n",
    "    \n",
    "    annual_sharpe = sharpe_ratio * np.sqrt(252)\n",
    "        \n",
    "    return annual_sharpe, modified_sharpe_stat, p_value"
   ]
  },
  {
   "cell_type": "code",
   "execution_count": 281,
   "metadata": {},
   "outputs": [
    {
     "data": {
      "text/plain": [
       "(1.4047664875744732, 1.5808634427421762, 0.11390926464137774)"
      ]
     },
     "execution_count": 281,
     "metadata": {},
     "output_type": "execute_result"
    }
   ],
   "source": [
    "sharpe_test(result_lst)"
   ]
  },
  {
   "cell_type": "code",
   "execution_count": 282,
   "metadata": {},
   "outputs": [],
   "source": [
    "def PPT(result_lst, trading_days):\n",
    "    return sum(result_lst) / (2 * len(trading_days)) * 10000"
   ]
  },
  {
   "cell_type": "code",
   "execution_count": 283,
   "metadata": {},
   "outputs": [
    {
     "data": {
      "text/plain": [
       "5.630630120134785"
      ]
     },
     "execution_count": 283,
     "metadata": {},
     "output_type": "execute_result"
    }
   ],
   "source": [
    "PPT(result_lst, trading_days)"
   ]
  },
  {
   "cell_type": "code",
   "execution_count": 284,
   "metadata": {},
   "outputs": [],
   "source": [
    "df_top_signals = pd.concat(top_signals_lst)\n",
    "df_bot_signals = pd.concat(bot_signals_lst)\n",
    "df_top_signals.set_index('datetime_bins', inplace=True)\n",
    "df_bot_signals.set_index('datetime_bins', inplace=True)\n"
   ]
  },
  {
   "cell_type": "code",
   "execution_count": 285,
   "metadata": {},
   "outputs": [],
   "source": [
    "df_top_ticker = df_top_signals.groupby('ticker')['pnl'].agg(['count', 'sum'])\n",
    "df_bot_ticker = df_bot_signals.groupby('ticker')['pnl'].agg(['count', 'sum'])\n",
    "\n",
    "# Reindex to fill missing indices with 0\n",
    "df_top_ticker = df_top_ticker.reindex(ticker_lst, fill_value=0)\n",
    "df_bot_ticker = df_bot_ticker.reindex(ticker_lst, fill_value=0)"
   ]
  },
  {
   "cell_type": "code",
   "execution_count": 286,
   "metadata": {},
   "outputs": [],
   "source": [
    "df_ticker_PPT = (df_top_ticker['sum'] + df_bot_ticker['sum']) / (df_top_ticker['count'] + df_bot_ticker['count']) * 1000"
   ]
  },
  {
   "cell_type": "code",
   "execution_count": 287,
   "metadata": {},
   "outputs": [
    {
     "data": {
      "text/html": [
       "<div>\n",
       "<style scoped>\n",
       "    .dataframe tbody tr th:only-of-type {\n",
       "        vertical-align: middle;\n",
       "    }\n",
       "\n",
       "    .dataframe tbody tr th {\n",
       "        vertical-align: top;\n",
       "    }\n",
       "\n",
       "    .dataframe thead th {\n",
       "        text-align: right;\n",
       "    }\n",
       "</style>\n",
       "<table border=\"1\" class=\"dataframe\">\n",
       "  <thead>\n",
       "    <tr style=\"text-align: right;\">\n",
       "      <th></th>\n",
       "      <th>0</th>\n",
       "    </tr>\n",
       "    <tr>\n",
       "      <th>ticker</th>\n",
       "      <th></th>\n",
       "    </tr>\n",
       "  </thead>\n",
       "  <tbody>\n",
       "    <tr>\n",
       "      <th>AES</th>\n",
       "      <td>0.260946</td>\n",
       "    </tr>\n",
       "    <tr>\n",
       "      <th>ALB</th>\n",
       "      <td>2.516680</td>\n",
       "    </tr>\n",
       "    <tr>\n",
       "      <th>AOS</th>\n",
       "      <td>0.238099</td>\n",
       "    </tr>\n",
       "    <tr>\n",
       "      <th>APA</th>\n",
       "      <td>-1.848393</td>\n",
       "    </tr>\n",
       "    <tr>\n",
       "      <th>BEN</th>\n",
       "      <td>0.488008</td>\n",
       "    </tr>\n",
       "    <tr>\n",
       "      <th>BXP</th>\n",
       "      <td>0.528242</td>\n",
       "    </tr>\n",
       "    <tr>\n",
       "      <th>CPB</th>\n",
       "      <td>-0.278661</td>\n",
       "    </tr>\n",
       "    <tr>\n",
       "      <th>DVA</th>\n",
       "      <td>-0.706789</td>\n",
       "    </tr>\n",
       "    <tr>\n",
       "      <th>FFIV</th>\n",
       "      <td>0.458515</td>\n",
       "    </tr>\n",
       "    <tr>\n",
       "      <th>FRT</th>\n",
       "      <td>-1.167723</td>\n",
       "    </tr>\n",
       "    <tr>\n",
       "      <th>HII</th>\n",
       "      <td>-0.925332</td>\n",
       "    </tr>\n",
       "    <tr>\n",
       "      <th>HRL</th>\n",
       "      <td>-0.134436</td>\n",
       "    </tr>\n",
       "    <tr>\n",
       "      <th>HSIC</th>\n",
       "      <td>-0.102214</td>\n",
       "    </tr>\n",
       "    <tr>\n",
       "      <th>INCY</th>\n",
       "      <td>1.455716</td>\n",
       "    </tr>\n",
       "    <tr>\n",
       "      <th>MHK</th>\n",
       "      <td>3.057752</td>\n",
       "    </tr>\n",
       "    <tr>\n",
       "      <th>NWSA</th>\n",
       "      <td>-1.035337</td>\n",
       "    </tr>\n",
       "    <tr>\n",
       "      <th>PNW</th>\n",
       "      <td>0.261360</td>\n",
       "    </tr>\n",
       "    <tr>\n",
       "      <th>RL</th>\n",
       "      <td>-2.942872</td>\n",
       "    </tr>\n",
       "    <tr>\n",
       "      <th>TAP</th>\n",
       "      <td>4.534521</td>\n",
       "    </tr>\n",
       "    <tr>\n",
       "      <th>WYNN</th>\n",
       "      <td>-0.058829</td>\n",
       "    </tr>\n",
       "  </tbody>\n",
       "</table>\n",
       "</div>"
      ],
      "text/plain": [
       "               0\n",
       "ticker          \n",
       "AES     0.260946\n",
       "ALB     2.516680\n",
       "AOS     0.238099\n",
       "APA    -1.848393\n",
       "BEN     0.488008\n",
       "BXP     0.528242\n",
       "CPB    -0.278661\n",
       "DVA    -0.706789\n",
       "FFIV    0.458515\n",
       "FRT    -1.167723\n",
       "HII    -0.925332\n",
       "HRL    -0.134436\n",
       "HSIC   -0.102214\n",
       "INCY    1.455716\n",
       "MHK     3.057752\n",
       "NWSA   -1.035337\n",
       "PNW     0.261360\n",
       "RL     -2.942872\n",
       "TAP     4.534521\n",
       "WYNN   -0.058829"
      ]
     },
     "execution_count": 287,
     "metadata": {},
     "output_type": "execute_result"
    }
   ],
   "source": [
    "df_ticker_PPT.to_frame()"
   ]
  },
  {
   "cell_type": "code",
   "execution_count": 288,
   "metadata": {},
   "outputs": [],
   "source": [
    "def SR(df_top_signals, df_bot_signals):\n",
    "    SR_lst = []\n",
    "    count_lst = []\n",
    "    test_lst = []\n",
    "    for ticker in ticker_lst:\n",
    "        top_ticker = df_top_signals[df_top_signals['ticker'] == ticker]['pnl'].to_list()\n",
    "        bot_ticker = df_bot_signals[df_bot_signals['ticker'] == ticker]['pnl'].to_list()\n",
    "\n",
    "        ticker_pnl = top_ticker + bot_ticker\n",
    "        ticker_pnl = np.array(ticker_pnl)\n",
    "        ticker_count = len(ticker_pnl)\n",
    "        _, test, _ = sharpe_test(ticker_pnl)\n",
    "        test_lst.append(test)\n",
    "        count_lst.append(ticker_count)\n",
    "        SR_lst.append(np.mean(ticker_pnl) / np.std(ticker_pnl) * np.sqrt(252))\n",
    "    \n",
    "    return pd.DataFrame({'ticker': ticker_lst, 'SR': SR_lst, 'count': count_lst, 'test': test_lst})"
   ]
  },
  {
   "cell_type": "code",
   "execution_count": 289,
   "metadata": {},
   "outputs": [
    {
     "data": {
      "text/html": [
       "<div>\n",
       "<style scoped>\n",
       "    .dataframe tbody tr th:only-of-type {\n",
       "        vertical-align: middle;\n",
       "    }\n",
       "\n",
       "    .dataframe tbody tr th {\n",
       "        vertical-align: top;\n",
       "    }\n",
       "\n",
       "    .dataframe thead th {\n",
       "        text-align: right;\n",
       "    }\n",
       "</style>\n",
       "<table border=\"1\" class=\"dataframe\">\n",
       "  <thead>\n",
       "    <tr style=\"text-align: right;\">\n",
       "      <th></th>\n",
       "      <th>ticker</th>\n",
       "      <th>SR</th>\n",
       "      <th>count</th>\n",
       "      <th>test</th>\n",
       "    </tr>\n",
       "  </thead>\n",
       "  <tbody>\n",
       "    <tr>\n",
       "      <th>0</th>\n",
       "      <td>AES</td>\n",
       "      <td>0.886773</td>\n",
       "      <td>2</td>\n",
       "      <td>0.039500</td>\n",
       "    </tr>\n",
       "    <tr>\n",
       "      <th>1</th>\n",
       "      <td>ALB</td>\n",
       "      <td>13.989188</td>\n",
       "      <td>5</td>\n",
       "      <td>1.663325</td>\n",
       "    </tr>\n",
       "    <tr>\n",
       "      <th>2</th>\n",
       "      <td>AOS</td>\n",
       "      <td>1.492375</td>\n",
       "      <td>11</td>\n",
       "      <td>0.274274</td>\n",
       "    </tr>\n",
       "    <tr>\n",
       "      <th>3</th>\n",
       "      <td>APA</td>\n",
       "      <td>-3.814419</td>\n",
       "      <td>9</td>\n",
       "      <td>-0.647146</td>\n",
       "    </tr>\n",
       "    <tr>\n",
       "      <th>4</th>\n",
       "      <td>BEN</td>\n",
       "      <td>1.814200</td>\n",
       "      <td>25</td>\n",
       "      <td>0.559828</td>\n",
       "    </tr>\n",
       "    <tr>\n",
       "      <th>5</th>\n",
       "      <td>BXP</td>\n",
       "      <td>2.317501</td>\n",
       "      <td>12</td>\n",
       "      <td>0.485514</td>\n",
       "    </tr>\n",
       "    <tr>\n",
       "      <th>6</th>\n",
       "      <td>CPB</td>\n",
       "      <td>-1.463963</td>\n",
       "      <td>8</td>\n",
       "      <td>-0.217703</td>\n",
       "    </tr>\n",
       "    <tr>\n",
       "      <th>7</th>\n",
       "      <td>DVA</td>\n",
       "      <td>-1.498152</td>\n",
       "      <td>33</td>\n",
       "      <td>-0.669002</td>\n",
       "    </tr>\n",
       "    <tr>\n",
       "      <th>8</th>\n",
       "      <td>FFIV</td>\n",
       "      <td>3.973548</td>\n",
       "      <td>12</td>\n",
       "      <td>0.722955</td>\n",
       "    </tr>\n",
       "    <tr>\n",
       "      <th>9</th>\n",
       "      <td>FRT</td>\n",
       "      <td>-2.984224</td>\n",
       "      <td>9</td>\n",
       "      <td>-0.622337</td>\n",
       "    </tr>\n",
       "    <tr>\n",
       "      <th>10</th>\n",
       "      <td>HII</td>\n",
       "      <td>-3.869893</td>\n",
       "      <td>27</td>\n",
       "      <td>-1.728366</td>\n",
       "    </tr>\n",
       "    <tr>\n",
       "      <th>11</th>\n",
       "      <td>HRL</td>\n",
       "      <td>-0.502943</td>\n",
       "      <td>11</td>\n",
       "      <td>-0.095926</td>\n",
       "    </tr>\n",
       "    <tr>\n",
       "      <th>12</th>\n",
       "      <td>HSIC</td>\n",
       "      <td>-0.510366</td>\n",
       "      <td>3</td>\n",
       "      <td>-0.037364</td>\n",
       "    </tr>\n",
       "    <tr>\n",
       "      <th>13</th>\n",
       "      <td>INCY</td>\n",
       "      <td>2.393940</td>\n",
       "      <td>16</td>\n",
       "      <td>0.697944</td>\n",
       "    </tr>\n",
       "    <tr>\n",
       "      <th>14</th>\n",
       "      <td>MHK</td>\n",
       "      <td>2.975345</td>\n",
       "      <td>81</td>\n",
       "      <td>3.338454</td>\n",
       "    </tr>\n",
       "    <tr>\n",
       "      <th>15</th>\n",
       "      <td>NWSA</td>\n",
       "      <td>-3.756261</td>\n",
       "      <td>25</td>\n",
       "      <td>-1.322018</td>\n",
       "    </tr>\n",
       "    <tr>\n",
       "      <th>16</th>\n",
       "      <td>PNW</td>\n",
       "      <td>0.740513</td>\n",
       "      <td>48</td>\n",
       "      <td>0.316332</td>\n",
       "    </tr>\n",
       "    <tr>\n",
       "      <th>17</th>\n",
       "      <td>RL</td>\n",
       "      <td>-46.652349</td>\n",
       "      <td>3</td>\n",
       "      <td>-4.728221</td>\n",
       "    </tr>\n",
       "    <tr>\n",
       "      <th>18</th>\n",
       "      <td>TAP</td>\n",
       "      <td>4.118811</td>\n",
       "      <td>17</td>\n",
       "      <td>1.645595</td>\n",
       "    </tr>\n",
       "    <tr>\n",
       "      <th>19</th>\n",
       "      <td>WYNN</td>\n",
       "      <td>-0.095044</td>\n",
       "      <td>60</td>\n",
       "      <td>-0.045638</td>\n",
       "    </tr>\n",
       "  </tbody>\n",
       "</table>\n",
       "</div>"
      ],
      "text/plain": [
       "   ticker         SR  count      test\n",
       "0     AES   0.886773      2  0.039500\n",
       "1     ALB  13.989188      5  1.663325\n",
       "2     AOS   1.492375     11  0.274274\n",
       "3     APA  -3.814419      9 -0.647146\n",
       "4     BEN   1.814200     25  0.559828\n",
       "5     BXP   2.317501     12  0.485514\n",
       "6     CPB  -1.463963      8 -0.217703\n",
       "7     DVA  -1.498152     33 -0.669002\n",
       "8    FFIV   3.973548     12  0.722955\n",
       "9     FRT  -2.984224      9 -0.622337\n",
       "10    HII  -3.869893     27 -1.728366\n",
       "11    HRL  -0.502943     11 -0.095926\n",
       "12   HSIC  -0.510366      3 -0.037364\n",
       "13   INCY   2.393940     16  0.697944\n",
       "14    MHK   2.975345     81  3.338454\n",
       "15   NWSA  -3.756261     25 -1.322018\n",
       "16    PNW   0.740513     48  0.316332\n",
       "17     RL -46.652349      3 -4.728221\n",
       "18    TAP   4.118811     17  1.645595\n",
       "19   WYNN  -0.095044     60 -0.045638"
      ]
     },
     "execution_count": 289,
     "metadata": {},
     "output_type": "execute_result"
    }
   ],
   "source": [
    "SR(df_top_signals, df_bot_signals)"
   ]
  },
  {
   "cell_type": "code",
   "execution_count": 308,
   "metadata": {},
   "outputs": [],
   "source": [
    "df = pd.read_csv('/nfs/home/jingt/dissertation-iceberg/data/ClOp_statistics.csv')"
   ]
  },
  {
   "cell_type": "code",
   "execution_count": 309,
   "metadata": {},
   "outputs": [],
   "source": [
    "df.dropna(axis=1, how='all', inplace=True)\n",
    "df.dropna(axis=0, how='all', inplace=True)"
   ]
  },
  {
   "cell_type": "code",
   "execution_count": 316,
   "metadata": {},
   "outputs": [],
   "source": [
    "df.set_index('ticker', inplace=True)"
   ]
  },
  {
   "cell_type": "code",
   "execution_count": 327,
   "metadata": {},
   "outputs": [
    {
     "data": {
      "image/png": "[encoded data removed]",
      "text/plain": [
       "<Figure size 1400x800 with 1 Axes>"
      ]
     },
     "metadata": {},
     "output_type": "display_data"
    }
   ],
   "source": [
    "# Assuming df is your dataframe\n",
    "df_SR = df[['SR_All', 'SR_HidLit', 'SR_VHI']]\n",
    "\n",
    "# Define the position of each group of bars on the x-axis\n",
    "x = np.arange(len(df_SR.index))\n",
    "\n",
    "# Define the width of each bar\n",
    "bar_width = 0.25\n",
    "\n",
    "# Create the plot\n",
    "fig, ax = plt.subplots(figsize=(14, 8))\n",
    "\n",
    "# Plotting each SR column as a set of bars\n",
    "ax.bar(x - bar_width, df_SR['SR_All'], width=bar_width, label='All')\n",
    "ax.bar(x, df_SR['SR_HidLit'], width=bar_width, label='HidLit')\n",
    "ax.bar(x + bar_width, df_SR['SR_VHI'], width=bar_width, label='VHI')\n",
    "\n",
    "# Add some text for labels, title, and axes ticks\n",
    "ax.set_xlabel('Tickers', fontsize=16)\n",
    "ax.set_ylabel('Sharpe Ratio', fontsize=16)\n",
    "ax.set_title('Sharpe Ratios by Ticker', fontsize=20)\n",
    "ax.set_xticks(x)\n",
    "ax.set_xticklabels(df_SR.index, rotation=90, fontsize=14)  # Set the ticker names as labels\n",
    "\n",
    "# Add a legend\n",
    "ax.legend(fontsize=14)\n",
    "\n",
    "# Show the plot\n",
    "plt.tight_layout()\n",
    "plt.show()"
   ]
  },
  {
   "cell_type": "code",
   "execution_count": null,
   "metadata": {},
   "outputs": [],
   "source": [
    "# Assuming df is your dataframe\n",
    "df_counts = df['count_All', 'count_HidLit', 'count_VHI']\n",
    "\n",
    "# Define the position of each group of bars on the x-axis\n",
    "x = np.arange(len(df_SR.index))\n",
    "\n",
    "# Define the width of each bar\n",
    "bar_width = 0.25\n",
    "\n",
    "# Create the plot\n",
    "fig, ax = plt.subplots(figsize=(14, 8))\n",
    "\n",
    "# Plotting each SR column as a set of bars\n",
    "ax.bar(x - bar_width, df_SR['SR_All'], width=bar_width, label='All')\n",
    "ax.bar(x, df_SR['SR_HidLit'], width=bar_width, label='HidLit')\n",
    "ax.bar(x + bar_width, df_SR['SR_VHI'], width=bar_width, label='VHI')\n",
    "\n",
    "# Add some text for labels, title, and axes ticks\n",
    "ax.set_xlabel('Tickers', fontsize=16)\n",
    "ax.set_ylabel('Sharpe Ratio', fontsize=16)\n",
    "ax.set_title('Sharpe Ratios by Ticker', fontsize=20)\n",
    "ax.set_xticks(x)\n",
    "ax.set_xticklabels(df_SR.index, rotation=90, fontsize=14)  # Set the ticker names as labels\n",
    "\n",
    "# Add a legend\n",
    "ax.legend(fontsize=14)\n",
    "\n",
    "# Show the plot\n",
    "plt.tight_layout()\n",
    "plt.show()"
   ]
  }
 ],
 "metadata": {
  "kernelspec": {
   "display_name": "ML_venv",
   "language": "python",
   "name": "python3"
  },
  "language_info": {
   "codemirror_mode": {
    "name": "ipython",
    "version": 3
   },
   "file_extension": ".py",
   "mimetype": "text/x-python",
   "name": "python",
   "nbconvert_exporter": "python",
   "pygments_lexer": "ipython3",
   "version": "3.10.12"
  }
 },
 "nbformat": 4,
 "nbformat_minor": 2
}
