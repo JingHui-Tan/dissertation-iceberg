{
 "cells": [
  {
   "cell_type": "code",
   "execution_count": 2,
   "metadata": {},
   "outputs": [],
   "source": [
    "import pandas as pd\n",
    "import matplotlib.pyplot as plt\n",
    "import seaborn as sns\n",
    "import numpy as np"
   ]
  },
  {
   "cell_type": "code",
   "execution_count": 3,
   "metadata": {},
   "outputs": [],
   "source": [
    "results_df = pd.read_csv(\"/nfs/home/jingt/dissertation-iceberg/data/output_regression/cont_log_ret_ex_ib_momentum_2018_v2.csv\")\n",
    "results_df_all = pd.read_csv(\"/nfs/home/jingt/dissertation-iceberg/data/output_regression/cont_log_ret_ex_all_momentum_2018_v2.csv\")"
   ]
  },
  {
   "cell_type": "code",
   "execution_count": 5,
   "metadata": {},
   "outputs": [],
   "source": [
    "pd.set_option('display.max_columns', 500)\n",
    "pd.set_option('display.max_rows', 500)"
   ]
  },
  {
   "cell_type": "code",
   "execution_count": 6,
   "metadata": {},
   "outputs": [],
   "source": [
    "ticker_diff = results_df.groupby('timeframe')['adj_R2'].mean() - results_df_all.groupby('timeframe')['adj_R2'].mean()"
   ]
  },
  {
   "cell_type": "code",
   "execution_count": 10,
   "metadata": {},
   "outputs": [
    {
     "name": "stderr",
     "output_type": "stream",
     "text": [
      "/tmp/ipykernel_51508/2153763582.py:5: SettingWithCopyWarning: \n",
      "A value is trying to be set on a copy of a slice from a DataFrame.\n",
      "Try using .loc[row_indexer,col_indexer] = value instead\n",
      "\n",
      "See the caveats in the documentation: https://pandas.pydata.org/pandas-docs/stable/user_guide/indexing.html#returning-a-view-versus-a-copy\n",
      "  results_filter[['params_vis', 'params_hid', 'params_ib']] *= 10**5\n",
      "/tmp/ipykernel_51508/2153763582.py:11: SettingWithCopyWarning: \n",
      "A value is trying to be set on a copy of a slice from a DataFrame.\n",
      "Try using .loc[row_indexer,col_indexer] = value instead\n",
      "\n",
      "See the caveats in the documentation: https://pandas.pydata.org/pandas-docs/stable/user_guide/indexing.html#returning-a-view-versus-a-copy\n",
      "  results_filter['timeframe'] = pd.Categorical(results_filter['timeframe'], categories=timeframe_order, ordered=True)\n"
     ]
    }
   ],
   "source": [
    "ticker_lst = ['APA', 'DVA', 'HII', 'RL', 'WYNN']\n",
    "\n",
    "results_filter = results_df[results_df['ticker'].isin(ticker_lst)]\n",
    "# Multiply the mean and std by 10^5\n",
    "results_filter[['params_vis', 'params_hid', 'params_ib']] *= 10**5\n",
    "\n",
    "# Define custom order\n",
    "timeframe_order = [\"30S\", \"1min\", \"2min\", \"5min\", \"10min\", \"15min\", \"30min\"]\n",
    "\n",
    "# Convert 'timeframe' to categorical\n",
    "results_filter['timeframe'] = pd.Categorical(results_filter['timeframe'], categories=timeframe_order, ordered=True)\n",
    "\n",
    "# Sort by 'timeframe' column\n",
    "sorted_results_df = results_filter.sort_values('timeframe')\n"
   ]
  },
  {
   "cell_type": "code",
   "execution_count": 13,
   "metadata": {},
   "outputs": [
    {
     "data": {
      "text/html": [
       "<div>\n",
       "<style scoped>\n",
       "    .dataframe tbody tr th:only-of-type {\n",
       "        vertical-align: middle;\n",
       "    }\n",
       "\n",
       "    .dataframe tbody tr th {\n",
       "        vertical-align: top;\n",
       "    }\n",
       "\n",
       "    .dataframe thead tr th {\n",
       "        text-align: left;\n",
       "    }\n",
       "</style>\n",
       "<table border=\"1\" class=\"dataframe\">\n",
       "  <thead>\n",
       "    <tr>\n",
       "      <th></th>\n",
       "      <th colspan=\"2\" halign=\"left\">params_vis</th>\n",
       "      <th colspan=\"2\" halign=\"left\">params_hid</th>\n",
       "      <th colspan=\"2\" halign=\"left\">params_ib</th>\n",
       "    </tr>\n",
       "    <tr>\n",
       "      <th></th>\n",
       "      <th>mean</th>\n",
       "      <th>std</th>\n",
       "      <th>mean</th>\n",
       "      <th>std</th>\n",
       "      <th>mean</th>\n",
       "      <th>std</th>\n",
       "    </tr>\n",
       "  </thead>\n",
       "  <tbody>\n",
       "    <tr>\n",
       "      <th>30S</th>\n",
       "      <td>4.826669</td>\n",
       "      <td>1.924654</td>\n",
       "      <td>0.609836</td>\n",
       "      <td>0.544573</td>\n",
       "      <td>3.957145</td>\n",
       "      <td>1.721488</td>\n",
       "    </tr>\n",
       "    <tr>\n",
       "      <th>1min</th>\n",
       "      <td>6.068719</td>\n",
       "      <td>2.640555</td>\n",
       "      <td>0.612650</td>\n",
       "      <td>1.011870</td>\n",
       "      <td>4.575622</td>\n",
       "      <td>2.496794</td>\n",
       "    </tr>\n",
       "    <tr>\n",
       "      <th>2min</th>\n",
       "      <td>8.337791</td>\n",
       "      <td>4.169613</td>\n",
       "      <td>0.553867</td>\n",
       "      <td>2.267953</td>\n",
       "      <td>5.543227</td>\n",
       "      <td>4.264049</td>\n",
       "    </tr>\n",
       "    <tr>\n",
       "      <th>5min</th>\n",
       "      <td>11.681696</td>\n",
       "      <td>6.618809</td>\n",
       "      <td>1.389072</td>\n",
       "      <td>1.795007</td>\n",
       "      <td>5.862419</td>\n",
       "      <td>4.871179</td>\n",
       "    </tr>\n",
       "    <tr>\n",
       "      <th>10min</th>\n",
       "      <td>12.836322</td>\n",
       "      <td>7.149695</td>\n",
       "      <td>1.876713</td>\n",
       "      <td>3.759229</td>\n",
       "      <td>5.399004</td>\n",
       "      <td>5.513238</td>\n",
       "    </tr>\n",
       "    <tr>\n",
       "      <th>15min</th>\n",
       "      <td>12.259577</td>\n",
       "      <td>6.206206</td>\n",
       "      <td>2.523348</td>\n",
       "      <td>3.928680</td>\n",
       "      <td>4.695824</td>\n",
       "      <td>5.828206</td>\n",
       "    </tr>\n",
       "    <tr>\n",
       "      <th>30min</th>\n",
       "      <td>4.378228</td>\n",
       "      <td>28.719769</td>\n",
       "      <td>1.514704</td>\n",
       "      <td>6.305372</td>\n",
       "      <td>3.485029</td>\n",
       "      <td>5.088460</td>\n",
       "    </tr>\n",
       "  </tbody>\n",
       "</table>\n",
       "</div>"
      ],
      "text/plain": [
       "      params_vis            params_hid           params_ib          \n",
       "            mean        std       mean       std      mean       std\n",
       "30S     4.826669   1.924654   0.609836  0.544573  3.957145  1.721488\n",
       "1min    6.068719   2.640555   0.612650  1.011870  4.575622  2.496794\n",
       "2min    8.337791   4.169613   0.553867  2.267953  5.543227  4.264049\n",
       "5min   11.681696   6.618809   1.389072  1.795007  5.862419  4.871179\n",
       "10min  12.836322   7.149695   1.876713  3.759229  5.399004  5.513238\n",
       "15min  12.259577   6.206206   2.523348  3.928680  4.695824  5.828206\n",
       "30min   4.378228  28.719769   1.514704  6.305372  3.485029  5.088460"
      ]
     },
     "execution_count": 13,
     "metadata": {},
     "output_type": "execute_result"
    }
   ],
   "source": [
    "# Aggregate mean and std\n",
    "grouped = results_df.groupby('timeframe')[['params_vis', 'params_hid', 'params_ib']].agg(['mean', 'std'])\n",
    "\n",
    "# Multiply the mean and std by 10^5\n",
    "grouped *= 10**4\n",
    "\n",
    "# Define custom order\n",
    "timeframe_order = [\"30S\", \"1min\", \"2min\", \"5min\", \"10min\", \"15min\", \"30min\"]\n",
    "\n",
    "# Convert 'timeframe' to category\n",
    "grouped.index = pd.Categorical(grouped.index, categories=timeframe_order, ordered=True)\n",
    "\n",
    "# Sort by the 'timeframe' column\n",
    "sorted_results_df = grouped.sort_index()\n",
    "\n",
    "sorted_results_df\n"
   ]
  },
  {
   "cell_type": "code",
   "execution_count": null,
   "metadata": {},
   "outputs": [],
   "source": []
  }
 ],
 "metadata": {
  "kernelspec": {
   "display_name": "ML_venv",
   "language": "python",
   "name": "python3"
  },
  "language_info": {
   "codemirror_mode": {
    "name": "ipython",
    "version": 3
   },
   "file_extension": ".py",
   "mimetype": "text/x-python",
   "name": "python",
   "nbconvert_exporter": "python",
   "pygments_lexer": "ipython3",
   "version": "3.10.12"
  }
 },
 "nbformat": 4,
 "nbformat_minor": 2
}
